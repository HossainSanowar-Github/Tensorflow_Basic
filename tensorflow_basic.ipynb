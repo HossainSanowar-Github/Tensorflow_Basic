{
 "cells": [
  {
   "cell_type": "code",
   "execution_count": 2,
   "id": "a99a9e8b",
   "metadata": {},
   "outputs": [
    {
     "name": "stdout",
     "output_type": "stream",
     "text": [
      "Init Plugin\n",
      "Init Graph Optimizer\n",
      "Init Kernel\n"
     ]
    }
   ],
   "source": [
    "import os\n",
    "import tensorflow as tf"
   ]
  },
  {
   "cell_type": "code",
   "execution_count": 21,
   "id": "07b5072b",
   "metadata": {},
   "outputs": [
    {
     "name": "stdout",
     "output_type": "stream",
     "text": [
      "tf.Tensor([[4.]], shape=(1, 1), dtype=float32)\n",
      "tf.Tensor(\n",
      "[[1 2 3]\n",
      " [4 5 6]], shape=(2, 3), dtype=int32)\n",
      "tf.Tensor([1 1 1], shape=(3,), dtype=int32)\n",
      "tf.Tensor([0 0 0], shape=(3,), dtype=int32)\n",
      "tf.Tensor(\n",
      "[[1. 0. 0.]\n",
      " [0. 1. 0.]\n",
      " [0. 0. 1.]], shape=(3, 3), dtype=float32)\n",
      "tf.Tensor(\n",
      "[[ 2.0907657  -0.5931975   0.11283968]\n",
      " [ 0.31116456 -0.4336749  -0.07594799]\n",
      " [-0.01198864  0.45448732 -0.07282386]], shape=(3, 3), dtype=float32)\n",
      "tf.Tensor(\n",
      "[[0.66691935 0.2924024  0.7701242 ]\n",
      " [0.917176   0.25480163 0.606426  ]\n",
      " [0.85407686 0.4991871  0.48812103]], shape=(3, 3), dtype=float32)\n",
      "tf.Tensor([0 1 2 3 4 5 6 7 8 9], shape=(10,), dtype=int32)\n",
      "tf.Tensor([0 1 2 3 4 5 6 7 8 9], shape=(10,), dtype=int32)\n",
      "tf.Tensor([0. 1. 2. 3. 4. 5. 6. 7. 8. 9.], shape=(10,), dtype=float32)\n"
     ]
    }
   ],
   "source": [
    "x= tf.constant(4, shape=(1,1),dtype=tf.float32)#single scaler\n",
    "print(x)\n",
    "\n",
    "y=tf.constant([[1,2,3],[4,5,6]])\n",
    "print(y)\n",
    "\n",
    "z=tf.ones(3,3)\n",
    "print(z)\n",
    "\n",
    "w=tf.zeros(3,3)\n",
    "print(w)\n",
    "\n",
    "#eye\n",
    "p=tf.eye(3)\n",
    "print(p)\n",
    "\n",
    "#random value for normal distribution\n",
    "ws=tf.random.normal((3,3),mean=0,stddev=1)\n",
    "print(ws)\n",
    "\n",
    "\n",
    "#random value for uniform distribution\n",
    "wz=tf.random.uniform((3,3),minval=0,maxval=1)\n",
    "print(wz)\n",
    "\n",
    "#range function\n",
    "wy=tf.range(10)\n",
    "print(wy)\n",
    "\n",
    "#cast because imutable\n",
    "wx=tf.cast(wy, dtype=tf.float32)\n",
    "print(wx)\n"
   ]
  },
  {
   "cell_type": "code",
   "execution_count": 37,
   "id": "8144e9d1",
   "metadata": {},
   "outputs": [
    {
     "name": "stdout",
     "output_type": "stream",
     "text": [
      "tf.Tensor([ 1  8 27], shape=(3,), dtype=int32)\n"
     ]
    }
   ],
   "source": [
    "#tensor operations by elementwise\n",
    "x= tf.constant([1,2,3])\n",
    "y= tf.constant([4,5,6])\n",
    "#z=tf.add(x,y) #addition\n",
    "#z=x+y\n",
    "# z=tf.subtract(x,y) #subtraction\n",
    "# z=x-y\n",
    "#z=tf.multiply(x,y) #multiplication\n",
    "#z=x*y\n",
    "\n",
    "#z=tf.divide(x,y) #divition\n",
    "#z=x/y\n",
    "\n",
    "#z=tf.tensordot(x,y,axes=1) #multiplication and summition\n",
    "z=x**3 # exponential po# wer\n",
    "print(z)"
   ]
  },
  {
   "cell_type": "code",
   "execution_count": 42,
   "id": "b8008a23",
   "metadata": {},
   "outputs": [
    {
     "name": "stdout",
     "output_type": "stream",
     "text": [
      "tf.Tensor(\n",
      "[[-1.824566   -3.500403  ]\n",
      " [-0.71994746 -1.8026938 ]], shape=(2, 2), dtype=float32)\n"
     ]
    }
   ],
   "source": [
    "# elements wise matrix multiplication\n",
    "x=tf.random.normal((2,2))\n",
    "y=tf.random.normal((2,2))\n",
    "#z=tf.matmul(x,y)#matrix multiplication; must be same column of x and row shape of y\n",
    "z=x@y\n",
    "print(z)"
   ]
  },
  {
   "cell_type": "code",
   "execution_count": 51,
   "id": "da1baf99",
   "metadata": {},
   "outputs": [
    {
     "name": "stdout",
     "output_type": "stream",
     "text": [
      "tf.Tensor(\n",
      "[[1 2 3 4]\n",
      " [5 6 7 8]], shape=(2, 4), dtype=int32)\n",
      "tf.Tensor([1 2 3 4], shape=(4,), dtype=int32)\n",
      "tf.Tensor([1 5], shape=(2,), dtype=int32)\n",
      "tf.Tensor([5 6 7 8], shape=(4,), dtype=int32)\n",
      "tf.Tensor([2 3], shape=(2,), dtype=int32)\n",
      "tf.Tensor(2, shape=(), dtype=int32)\n"
     ]
    }
   ],
   "source": [
    "#slicing, indexing\n",
    "x= tf.constant([[1,2,3,4],[5,6,7,8]])\n",
    "print(x)\n",
    "print(x[0])#slicing first row\n",
    "print(x[:,0])#slicing all row and first column\n",
    "print(x[1,:])#slicing first row and all column\n",
    "print(x[0,1:3])#slicing first row and 2nd, 3rd column\n",
    "print(x[0,1])#slicing fixed element"
   ]
  },
  {
   "cell_type": "code",
   "execution_count": 55,
   "id": "5b9ab197",
   "metadata": {},
   "outputs": [
    {
     "name": "stdout",
     "output_type": "stream",
     "text": [
      "tf.Tensor(\n",
      "[[0.66691935 0.2924024  0.7701242 ]\n",
      " [0.917176   0.25480163 0.606426  ]], shape=(2, 3), dtype=float32)\n",
      "tf.Tensor(\n",
      "[[0.66691935 0.2924024 ]\n",
      " [0.7701242  0.917176  ]\n",
      " [0.25480163 0.606426  ]], shape=(3, 2), dtype=float32)\n",
      "tf.Tensor([0.66691935 0.2924024  0.7701242  0.917176   0.25480163 0.606426  ], shape=(6,), dtype=float32)\n",
      "tf.Tensor(\n",
      "[[0.66691935 0.2924024 ]\n",
      " [0.7701242  0.917176  ]\n",
      " [0.25480163 0.606426  ]], shape=(3, 2), dtype=float32)\n"
     ]
    }
   ],
   "source": [
    "# reshaping\n",
    "x=tf.random.uniform((2,3))\n",
    "print(x)\n",
    "\n",
    "x=tf.reshape(x, (3,2))#convert 3 rows and 2 columns\n",
    "print(x)\n",
    "\n",
    "x=tf.reshape(x, (6))#convert single rows\n",
    "print(x)\n",
    "\n",
    "x=tf.reshape(x, (-1,2))#convert 3 rows and 2 columns again\n",
    "print(x)"
   ]
  },
  {
   "cell_type": "code",
   "execution_count": 59,
   "id": "3f5dccd8",
   "metadata": {},
   "outputs": [
    {
     "name": "stdout",
     "output_type": "stream",
     "text": [
      "tf.Tensor(\n",
      "[[0.5268742  0.34426558 0.41501665]\n",
      " [0.105389   0.9367095  0.92568815]], shape=(2, 3), dtype=float32)\n",
      "[[0.5268742  0.34426558 0.41501665]\n",
      " [0.105389   0.9367095  0.92568815]]\n",
      "<class 'numpy.ndarray'>\n",
      "tf.Tensor(\n",
      "[[0.5268742  0.34426558 0.41501665]\n",
      " [0.105389   0.9367095  0.92568815]], shape=(2, 3), dtype=float32)\n",
      "<class 'tensorflow.python.framework.ops.EagerTensor'>\n"
     ]
    }
   ],
   "source": [
    "# convert numpy array\n",
    "x=tf.random.uniform((2,3))\n",
    "print(x)\n",
    "\n",
    "x=x.numpy() #convert tensor to numpy\n",
    "print(x)\n",
    "print(type(x))\n",
    "\n",
    "x=tf.convert_to_tensor(x) #convert numpy to tensor\n",
    "print(x)\n",
    "print(type(x))"
   ]
  },
  {
   "cell_type": "code",
   "execution_count": 62,
   "id": "14781a59",
   "metadata": {},
   "outputs": [
    {
     "name": "stdout",
     "output_type": "stream",
     "text": [
      "tf.Tensor(b'sanowar', shape=(), dtype=string)\n",
      "tf.Tensor([b'sanowar' b'anowar' b'billah'], shape=(3,), dtype=string)\n"
     ]
    }
   ],
   "source": [
    "# string tensor\n",
    "x=tf.constant('sanowar')\n",
    "print(x)\n",
    "\n",
    "x=tf.constant(['sanowar','anowar','billah'])\n",
    "print(x)"
   ]
  },
  {
   "cell_type": "code",
   "execution_count": 63,
   "id": "b027bc65",
   "metadata": {},
   "outputs": [
    {
     "name": "stdout",
     "output_type": "stream",
     "text": [
      "tf.Tensor([1 2 3], shape=(3,), dtype=int32)\n",
      "<tf.Variable 'Variable:0' shape=(3,) dtype=int32, numpy=array([1, 2, 3], dtype=int32)>\n"
     ]
    }
   ],
   "source": [
    "# variabl\n",
    "x=tf.constant([1,2,3])\n",
    "print(x)\n",
    "\n",
    "x=tf.Variable([1,2,3])#variable tensorflow, modify the tensor\n",
    "print(x)"
   ]
  },
  {
   "cell_type": "code",
   "execution_count": null,
   "id": "c444a4bf",
   "metadata": {},
   "outputs": [],
   "source": []
  }
 ],
 "metadata": {
  "kernelspec": {
   "display_name": "Python 3.9 (tensorflow)",
   "language": "python",
   "name": "tensorflow"
  },
  "language_info": {
   "codemirror_mode": {
    "name": "ipython",
    "version": 3
   },
   "file_extension": ".py",
   "mimetype": "text/x-python",
   "name": "python",
   "nbconvert_exporter": "python",
   "pygments_lexer": "ipython3",
   "version": "3.9.7"
  }
 },
 "nbformat": 4,
 "nbformat_minor": 5
}
